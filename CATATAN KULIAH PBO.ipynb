{
 "cells": [
  {
   "attachments": {},
   "cell_type": "markdown",
   "metadata": {},
   "source": [
    "# CLASS VS OBJECT\n",
    "- Class adalah sebuah kerangka yang berisi method dan property untuk membentuk sebuah object.\n",
    "- Object adalah representasi nyata dari class itu sendiri.\n",
    "![](/img/Picture2.png)"
   ]
  },
  {
   "cell_type": "code",
   "execution_count": 14,
   "metadata": {},
   "outputs": [
    {
     "name": "stdout",
     "output_type": "stream",
     "text": [
      "4\n",
      "Luas :  16\n",
      "Luas permukaan :  64\n",
      "Volume :  64\n"
     ]
    }
   ],
   "source": [
    "#Contoh program :\n",
    "class Kubus:\n",
    "    def __init__(self,s):\n",
    "        self.sisi = s\n",
    "    def tampilkansisi(self):\n",
    "        print(self.sisi)   \n",
    "    def luas(self):\n",
    "        print(\"Luas : \",self.sisi**2)\n",
    "    def luaspermukaan(self):\n",
    "        print(\"Luas permukaan : \",self.sisi**2*4)\n",
    "    def volume(self):\n",
    "        print(\"Volume : \",self.sisi**3)\n",
    "\n",
    "kubus1 = Kubus(4)\n",
    "kubus1.tampilkansisi()\n",
    "kubus1.luas()\n",
    "kubus1.luaspermukaan()\n",
    "kubus1.volume()"
   ]
  },
  {
   "cell_type": "code",
   "execution_count": 1,
   "metadata": {},
   "outputs": [
    {
     "name": "stdout",
     "output_type": "stream",
     "text": [
      "ferdy , pegawai bank , 3000000\n",
      "Umur: 19\n"
     ]
    }
   ],
   "source": [
    "from datetime import datetime\n",
    "\n",
    "class Pegawai:\n",
    "    def __init__(self,n,j,g,h):\n",
    "        self.nama = n\n",
    "        self.jabatan = j\n",
    "        self.gaji = g\n",
    "        self.lahir = h\n",
    "    \n",
    "    def tampilkan(self):\n",
    "        print(self.nama,\",\",self.jabatan,\",\",self.gaji*30)\n",
    "    def tampilkanumur(self):\n",
    "        sekarang = datetime.now()\n",
    "        tahun = sekarang.year\n",
    "        print(\"Umur:\",tahun-self.lahir)\n",
    "\n",
    "p1 = Pegawai(\"ferdy\",\"pegawai bank\",100000,2000)\n",
    "p1.tampilkan()\n",
    "p1.tampilkanumur()"
   ]
  },
  {
   "cell_type": "markdown",
   "metadata": {},
   "source": [
    "# INHERITANCE\n",
    "- Inheritance adalah konsep pemrograman sebuah class yang dapat 'menurunkan' property dan method yang dimilikinya kepada class lain.\n",
    "- Class induk mewariskan kepada kelas anak.\n",
    "- Semua class induk dapat diwariskan ke class anaknya."
   ]
  },
  {
   "cell_type": "code",
   "execution_count": 13,
   "metadata": {},
   "outputs": [
    {
     "name": "stdout",
     "output_type": "stream",
     "text": [
      "brian\n",
      "Programing Python\n",
      "Diana\n"
     ]
    }
   ],
   "source": [
    "class user:\n",
    "    nama = \"\"\n",
    "    def __init__(self,nama):\n",
    "        self.name = nama\n",
    "    def printname(self):\n",
    "        print(self.name)\n",
    "\n",
    "class programer(user):\n",
    "    def __init__(self,nama):\n",
    "        self.name = nama\n",
    "    def dopython(self):\n",
    "        print(\"Programing Python\")\n",
    "        \n",
    "brian = user(\"brian\")\n",
    "brian.printname()\n",
    "\n",
    "diana = programer(\"Diana\")\n",
    "diana.dopython()\n",
    "diana.printname()"
   ]
  },
  {
   "attachments": {},
   "cell_type": "markdown",
   "metadata": {},
   "source": [
    "# TYPE OF INHERITANCE\n",
    "Di dalam type inheritance ada beberapa type seperti : default, overriding, super, dan multiple inheritance.\n",
    "![](/img/Picture1.png)\n",
    "1. Default\n",
    "2. Overriding\n",
    "3. Super\n",
    "4. Multiple inheritence"
   ]
  },
  {
   "cell_type": "code",
   "execution_count": 6,
   "metadata": {},
   "outputs": [
    {
     "name": "stdout",
     "output_type": "stream",
     "text": [
      "TerryFish\n",
      "Bone\n",
      "Falso\n",
      "The fish is swimming\n",
      "The fish can swim backwards\n",
      "CaseyFish\n",
      "The fish is swimming\n",
      "The Clownfish is coexisting with sea anemone.\n"
     ]
    }
   ],
   "source": [
    "# 1. Default\n",
    "class Fish:\n",
    "    def __init__(self,first_name,last_name=\"Fish\",skeleton=\"Bone\",eyelids=\"Falso\"):\n",
    "        self.first_name = first_name\n",
    "        self.last_name = last_name\n",
    "        self.skeleton = skeleton\n",
    "        self.eyelids = eyelids\n",
    "    def swim(self):\n",
    "        print(\"The fish is swimming\")\n",
    "    def swim_backwards(self):\n",
    "        print(\"The fish can swim backwards\")\n",
    "        \n",
    "class Trout(Fish):\n",
    "    pass\n",
    "\n",
    "class Clowfish(Fish):\n",
    "    def live_with_anemone(self):\n",
    "        print(\"The Clownfish is coexisting with sea anemone.\")\n",
    "\n",
    "#default\n",
    "terry = Trout(\"Terry\")\n",
    "print(terry.first_name+\"\"+terry.last_name)\n",
    "print(terry.skeleton)\n",
    "print(terry.eyelids)\n",
    "terry.swim()\n",
    "terry.swim_backwards()\n",
    "\n",
    "casey = Clowfish(\"Casey\")\n",
    "print(casey.first_name+\"\"+casey.last_name)\n",
    "casey.swim()\n",
    "casey.live_with_anemone()"
   ]
  },
  {
   "cell_type": "code",
   "execution_count": 5,
   "metadata": {},
   "outputs": [
    {
     "name": "stdout",
     "output_type": "stream",
     "text": [
      "The shark cant swim backwards, but can sink backwards\n"
     ]
    }
   ],
   "source": [
    "# 2. Overriding\n",
    "class Fish:\n",
    "    def __init__(self,first_name,last_name=\"Fish\"):\n",
    "        self.first_name = first_name\n",
    "        self.last_name  = last_name\n",
    "    def swim(self):\n",
    "        print(\"The fish is swimming\")\n",
    "    def swim_backwards(self):\n",
    "        print(\"The fish can swim backward\")\n",
    "class Trout(Fish):\n",
    "    pass\n",
    "class Clownfish(Fish):\n",
    "    def live_with_anemone(self):\n",
    "        print(\"The clownfish is coexisting with sea anemone\")\n",
    "#overriding\n",
    "class shark(Fish): \n",
    "    def __init__(self,first_name,last_name=\"Shark\"):\n",
    "               self.first_name = first_name\n",
    "               self.last_name  = last_name\n",
    "    def swim_backwards(self):\n",
    "        print(\"The shark cant swim backwards, but can sink backwards\")\n",
    "\n",
    "hiu =shark(\"Suro\")\n",
    "hiu.swim_backwards()"
   ]
  },
  {
   "cell_type": "code",
   "execution_count": 12,
   "metadata": {},
   "outputs": [
    {
     "name": "stdout",
     "output_type": "stream",
     "text": [
      "5\n",
      "3.142857142857143\n",
      "Luas= 78.57142857142857\n",
      "Keliling= 31.428571428571427\n"
     ]
    }
   ],
   "source": [
    "# 3. Super\n",
    "class Lingkaran:\n",
    "    def __init__ (self, jarijari, phi):\n",
    "        self.jarijari = jarijari\n",
    "        self.phi = phi\n",
    "    \n",
    "    \n",
    "    def tampilkan (self):\n",
    "        print (self.jarijari)\n",
    "        print (self.phi)\n",
    "        \n",
    "    def rumus (self):\n",
    "        print (\"Luas=\",self.phi * self.jarijari * self.jarijari)\n",
    "        print (\"Keliling=\", 2 * self.phi * self.jarijari)\n",
    "        \n",
    "class Tabung :\n",
    "    def __init__ (self, tinggi):\n",
    "        self.tinggi = tinggi\n",
    "        super().__init__(self,jarijari,phi)\n",
    "    \n",
    "    def tampilkan (self):\n",
    "        print (self.tinggi)\n",
    "        print (self.jarijari)\n",
    "        \n",
    "    def rumus (self):\n",
    "        print (\"Tinggi=\",self.vol/self.phi*self.jarijari*self.jarijari)\n",
    "        print (\"Volume=\")\n",
    "        \n",
    "        \n",
    "L=Lingkaran(5, 22/7)\n",
    "L.tampilkan()\n",
    "L.rumus()"
   ]
  },
  {
   "cell_type": "code",
   "execution_count": 8,
   "metadata": {},
   "outputs": [
    {
     "name": "stdout",
     "output_type": "stream",
     "text": [
      "Coral Lives in a community\n",
      "The anemone is protecting the clownfish\n"
     ]
    }
   ],
   "source": [
    "# 4. Multiple inheritence\n",
    "class coral:\n",
    "    def community(self):\n",
    "        print(\"Coral Lives in a community\")\n",
    "class anemone:\n",
    "    def protect_clownfish(self):\n",
    "        print(\"The anemone is protecting the clownfish\")\n",
    "class coralreef(coral,anemone):\n",
    "        pass\n",
    "great_barrier = coralreef()\n",
    "great_barrier.community()\n",
    "great_barrier.protect_clownfish()"
   ]
  },
  {
   "cell_type": "markdown",
   "metadata": {},
   "source": [
    "# POLYMORPHISME\n",
    "Polymorphisme adalah suatu object dapat memiliki berbagai bentuk, sebagai object dari class sendiri atau object dari superclassnya.\n",
    "Ada 2 polymorphisme :\n",
    "1. Polymorphism with a Function\n",
    "2. Polymorphism with Class Methods"
   ]
  },
  {
   "cell_type": "code",
   "execution_count": 9,
   "metadata": {},
   "outputs": [
    {
     "name": "stdout",
     "output_type": "stream",
     "text": [
      "The Shark skeleton is mode of cartillage\n",
      "The clowfish skeleton is mode of bone\n",
      "The Shark is swimming\n",
      "The clown fish is swimming\n"
     ]
    }
   ],
   "source": [
    "# 1. Polymorphism with a Function\n",
    "class shark():\n",
    "    def swim(self):\n",
    "        print(\"The Shark is swimming\")\n",
    "    def backwards(self):\n",
    "        print(\"The Shark cannot swim backwards\")\n",
    "    def skeleton(self):\n",
    "        print(\"The Shark skeleton is mode of cartillage\")\n",
    "class clownfish():\n",
    "    def swim(self):\n",
    "        print(\"The clown fish is swimming\")\n",
    "    def swim_backwards(self):\n",
    "        print(\"The clowfish can swim backwards\")\n",
    "    def skeleton(self):\n",
    "        print(\"The clowfish skeleton is mode of bone\")\n",
    "\n",
    "a=shark()\n",
    "a.skeleton()\n",
    "\n",
    "b=clownfish()\n",
    "b.skeleton()\n",
    "\n",
    "def in_the_pacific(fish):\n",
    "    fish.swim()\n",
    "\n",
    "in_the_pacific(a)\n",
    "in_the_pacific(b)"
   ]
  },
  {
   "cell_type": "code",
   "execution_count": 10,
   "metadata": {},
   "outputs": [
    {
     "name": "stdout",
     "output_type": "stream",
     "text": [
      "The Shark is swimming\n",
      "The Shark cannot swim backwards\n",
      "The Shark skeleton is mode of cartillage\n",
      "The clown fish is swimming\n",
      "The clowfish can swim backwards\n",
      "The clowfish skeleton is mode of bone\n"
     ]
    }
   ],
   "source": [
    "# 2. Polymorphism with Class Methods\n",
    "class shark():\n",
    "    def swim(self):\n",
    "        print(\"The Shark is swimming\")\n",
    "    def swim_backwards(self):\n",
    "        print(\"The Shark cannot swim backwards\")\n",
    "    def skeleton(self):\n",
    "        print(\"The Shark skeleton is mode of cartillage\")\n",
    "class clownfish():\n",
    "    def swim(self):\n",
    "        print(\"The clown fish is swimming\")\n",
    "    def swim_backwards(self):\n",
    "        print(\"The clowfish can swim backwards\")\n",
    "    def skeleton(self):\n",
    "        print(\"The clowfish skeleton is mode of bone\")\n",
    "    \n",
    "sammy = shark()\n",
    "casey = clownfish()\n",
    "\n",
    "for fish in (sammy,casey):\n",
    "    fish.swim()\n",
    "    fish.swim_backwards()\n",
    "    fish.skeleton()"
   ]
  }
 ],
 "metadata": {
  "kernelspec": {
   "display_name": "Python 3",
   "language": "python",
   "name": "python3"
  },
  "language_info": {
   "codemirror_mode": {
    "name": "ipython",
    "version": 3
   },
   "file_extension": ".py",
   "mimetype": "text/x-python",
   "name": "python",
   "nbconvert_exporter": "python",
   "pygments_lexer": "ipython3",
   "version": "3.7.1"
  }
 },
 "nbformat": 4,
 "nbformat_minor": 2
}
